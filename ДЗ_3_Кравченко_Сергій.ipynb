{
  "nbformat": 4,
  "nbformat_minor": 0,
  "metadata": {
    "colab": {
      "provenance": [],
      "authorship_tag": "ABX9TyOJY9aAYe+eP4iDwO7IuwEB",
      "include_colab_link": true
    },
    "kernelspec": {
      "name": "python3",
      "display_name": "Python 3"
    },
    "language_info": {
      "name": "python"
    }
  },
  "cells": [
    {
      "cell_type": "markdown",
      "metadata": {
        "id": "view-in-github",
        "colab_type": "text"
      },
      "source": [
        "<a href=\"https://colab.research.google.com/github/viotsoft/apps/blob/main/%D0%94%D0%97_3_%D0%9A%D1%80%D0%B0%D0%B2%D1%87%D0%B5%D0%BD%D0%BA%D0%BE_%D0%A1%D0%B5%D1%80%D0%B3%D1%96%D0%B9.ipynb\" target=\"_parent\"><img src=\"https://colab.research.google.com/assets/colab-badge.svg\" alt=\"Open In Colab\"/></a>"
      ]
    },
    {
      "cell_type": "code",
      "execution_count": 2,
      "metadata": {
        "colab": {
          "base_uri": "https://localhost:8080/"
        },
        "id": "KxkeKUHnGiZZ",
        "outputId": "e64f33d9-b85c-44b4-8f0f-69ca26a6104e"
      },
      "outputs": [
        {
          "output_type": "stream",
          "name": "stderr",
          "text": [
            "Downloading...\n",
            "From: https://drive.google.com/uc?id=1281E0CDneuKdflWFBUvuyUzujpdGVImz\n",
            "To: /content/nlp_model.pkl\n",
            "100%|██████████| 309k/309k [00:00<00:00, 68.7MB/s]"
          ]
        },
        {
          "output_type": "stream",
          "name": "stdout",
          "text": [
            "Перші 5 рядків DataFrame:\n",
            "      word         x         y         z\n",
            "0  country -0.080078  0.133789  0.143555\n",
            "1     city -0.010071  0.057373  0.183594\n",
            "2    China -0.073242  0.135742  0.108887\n",
            "3     Iraq  0.191406  0.125000 -0.065430\n",
            "4      oil -0.139648  0.062256 -0.279297\n",
            "\n",
            "Слова з 3-вимірними векторами: ['country', 'city', 'China', 'Iraq', 'oil', 'town', 'Canada', 'London', 'England', 'Australia', 'Japan', 'Pakistan', 'Iran', 'gas', 'happy', 'Russia', 'Afghanistan', 'France', 'Germany', 'Georgia', 'Baghdad', 'village', 'Spain', 'Italy', 'Beijing', 'Jordan', 'Paris', 'Ireland', 'Turkey', 'Egypt', 'Lebanon', 'Taiwan', 'Tokyo', 'Nigeria', 'Vietnam', 'Moscow', 'Greece', 'Indonesia', 'sad', 'Syria', 'Thailand', 'Libya', 'Zimbabwe', 'Cuba', 'Ottawa', 'Tehran', 'Sudan', 'Kenya', 'Philippines', 'Sweden', 'Poland', 'Ukraine', 'Rome', 'Venezuela', 'Switzerland', 'Berlin', 'Bangladesh', 'Portugal', 'Ghana', 'Athens', 'king', 'Madrid', 'Somalia', 'Dublin', 'Qatar', 'Chile', 'Islamabad', 'Bahrain', 'Nepal', 'Norway', 'Serbia', 'Kabul', 'continent', 'Brussels', 'Belgium', 'Uganda', 'petroleum', 'Cairo', 'Denmark', 'Austria', 'Jamaica', 'Georgetown', 'Bangkok', 'Finland', 'Peru', 'Romania', 'Bulgaria', 'Hungary', 'Vienna', 'Kingston', 'Manila', 'Cyprus', 'Azerbaijan', 'Copenhagen', 'Fiji', 'Tunisia', 'Kazakhstan', 'queen', 'Beirut', 'Jakarta', 'Croatia', 'Belarus', 'Algeria', 'Malta', 'Morocco', 'Rwanda', 'Bahamas', 'Damascus', 'Ecuador', 'Angola', 'Canberra', 'Liberia', 'Honduras', 'Tripoli', 'Slovakia', 'Doha', 'Armenia', 'Taipei', 'Oman', 'Nairobi', 'Santiago', 'Guinea', 'Uruguay', 'Stockholm', 'Slovenia', 'Zambia', 'Havana', 'Uzbekistan', 'Belgrade', 'Mogadishu', 'Khartoum', 'Botswana', 'Kyrgyzstan', 'Dhaka', 'Namibia', 'Ankara', 'Abuja', 'Lima', 'Harare', 'Warsaw', 'Malawi', 'Lisbon', 'Latvia', 'Niger', 'Lithuania', 'Estonia', 'Samoa', 'Oslo', 'Nicaragua', 'Hanoi', 'Sofia', 'Macedonia', 'Senegal', 'Mozambique', 'Guyana', 'Mali', 'Accra', 'Kathmandu', 'Tbilisi', 'Helsinki', 'Montenegro', 'Caracas', 'Laos', 'Budapest', 'Kiev', 'Turkmenistan', 'Eritrea', 'Albania', 'Madagascar', 'Nassau', 'Kampala', 'Amman', 'Greenland', 'Belize', 'Moldova', 'Burundi', 'Tajikistan', 'Baku', 'Astana', 'Gambia', 'Bucharest', 'joyful', 'Monrovia', 'Mauritania', 'Algiers', 'Muscat', 'Bern', 'Luanda', 'Dakar', 'Tunis', 'Gabon', 'Minsk', 'Liechtenstein', 'Suva', 'Yerevan', 'Zagreb', 'Bishkek', 'Manama', 'Kigali', 'Riga', 'Lusaka', 'Tashkent', 'Nicosia', 'Valletta', 'Windhoek', 'Dominica', 'Quito', 'Tallinn', 'Bratislava', 'Tegucigalpa', 'Skopje', 'Gaborone', 'Rabat', 'Maputo', 'Suriname', 'Vilnius', 'Montevideo', 'Ljubljana', 'Tirana', 'Dushanbe', 'Ashgabat', 'Asmara', 'Tuvalu', 'Managua', 'Conakry', 'Banjul', 'Bamako', 'Lilongwe', 'Vientiane', 'Chisinau', 'Roseau', 'Nouakchott', 'Podgorica', 'Niamey', 'Bujumbura', 'Apia', 'Antananarivo', 'Libreville', 'Belmopan', 'Vaduz', 'Paramaribo', 'Nuuk', 'Funafuti']\n",
            "\n",
            "Тестування пошуку найближчого слова:\n",
            "Тест 1: Найближче слово до [0.1 0.2 0.3]: Senegal\n",
            "Тест 2: Найближче слово до [-0.5  0.7  0.1]: Libreville\n",
            "Тест 3: Найближче слово до [np.float32(-0.080078125) np.float32(0.13378906) np.float32(0.14355469)]: country\n",
            "\n",
            "Тестування векторного добутку:\n",
            "Векторний добуток 'country' × 'city': найближче слово = Guinea\n",
            "Векторний добуток 'China' × 'Iraq': найближче слово = Zimbabwe\n",
            "\n",
            "Тестування кута між словами:\n",
            "Кут між 'country' і 'city': 0.55 радіан, 31.42 градусів\n",
            "Кут між 'China' і 'Iraq': 1.66 радіан, 95.34 градусів\n"
          ]
        },
        {
          "output_type": "stream",
          "name": "stderr",
          "text": [
            "\n"
          ]
        }
      ],
      "source": [
        "import gdown\n",
        "import pickle\n",
        "import numpy as np\n",
        "import pandas as pd\n",
        "\n",
        "# Завантаження моделі\n",
        "url = \"https://drive.google.com/uc?id=1281E0CDneuKdflWFBUvuyUzujpdGVImz\"\n",
        "output = \"nlp_model.pkl\"\n",
        "gdown.download(url, output, quiet=False)\n",
        "\n",
        "with open(output, \"rb\") as f:\n",
        "    nlp_model = pickle.load(f)\n",
        "\n",
        "# Створення DataFrame з тривимірними векторами\n",
        "data = []\n",
        "for word, vec in nlp_model.items():\n",
        "    vec = np.array(vec).flatten()\n",
        "    if len(vec) >= 3:\n",
        "        data.append({\"word\": word, \"x\": vec[0], \"y\": vec[1], \"z\": vec[2]})\n",
        "if not data:\n",
        "    raise ValueError(\"Жоден вектор у моделі не має достатньої довжини для обрізки до 3.\")\n",
        "df_vectors = pd.DataFrame(data)\n",
        "print(\"Перші 5 рядків DataFrame:\")\n",
        "print(df_vectors.head())\n",
        "\n",
        "valid_words = df_vectors['word'].tolist()\n",
        "print(\"\\nСлова з 3-вимірними векторами:\", valid_words)\n",
        "\n",
        "# Функція пошуку найближчого слова\n",
        "def find_nearest(word_vector, df):\n",
        "    word_vector = np.array(word_vector).flatten()\n",
        "    if len(word_vector) != 3:\n",
        "        raise ValueError(f\"Вектор для пошуку має довжину {len(word_vector)}, а не 3.\")\n",
        "    min_dist = float('inf')\n",
        "    nearest_word = None\n",
        "    for _, row in df.iterrows():\n",
        "        vec = np.array([row['x'], row['y'], row['z']])\n",
        "        dist = np.linalg.norm(word_vector - vec)\n",
        "        if dist < min_dist:\n",
        "            min_dist = dist\n",
        "            nearest_word = row['word']\n",
        "    if nearest_word is None:\n",
        "        raise ValueError(\"Не знайдено слова з тривимірним вектором.\")\n",
        "    return nearest_word\n",
        "\n",
        "# Тестування find_nearest із кількома прикладами\n",
        "print(\"\\nТестування пошуку найближчого слова:\")\n",
        "test_vectors = [\n",
        "    np.array([0.1, 0.2, 0.3]),\n",
        "    np.array([-0.5, 0.7, 0.1]),\n",
        "    df_vectors.iloc[0][['x', 'y', 'z']].values  # Вектор першого слова\n",
        "]\n",
        "for i, vec in enumerate(test_vectors):\n",
        "    nearest = find_nearest(vec, df_vectors)\n",
        "    print(f\"Тест {i+1}: Найближче слово до {vec}: {nearest}\")\n",
        "\n",
        "# Функція для векторного добутку\n",
        "def find_orthogonal_word(word1, word2, df):\n",
        "    vec1 = df[df['word'] == word1][['x', 'y', 'z']].values[0]\n",
        "    vec2 = df[df['word'] == word2][['x', 'y', 'z']].values[0]\n",
        "    cross_vector = np.cross(vec1, vec2)\n",
        "    return find_nearest(cross_vector, df)\n",
        "\n",
        "# Тестування для кількох пар слів\n",
        "if len(valid_words) < 4:\n",
        "    raise ValueError(\"Недостатньо слів для тестування кількох пар.\")\n",
        "word_pairs = [(valid_words[0], valid_words[1]), (valid_words[2], valid_words[3])]\n",
        "print(\"\\nТестування векторного добутку:\")\n",
        "for w1, w2 in word_pairs:\n",
        "    orthogonal = find_orthogonal_word(w1, w2, df_vectors)\n",
        "    print(f\"Векторний добуток '{w1}' × '{w2}': найближче слово = {orthogonal}\")\n",
        "\n",
        "# Функція для кута між словами\n",
        "def angle_between_words(word1, word2, df):\n",
        "    vec1 = df[df['word'] == word1][['x', 'y', 'z']].values[0]\n",
        "    vec2 = df[df['word'] == word2][['x', 'y', 'z']].values[0]\n",
        "    dot_product = np.dot(vec1, vec2)\n",
        "    norm1 = np.linalg.norm(vec1)\n",
        "    norm2 = np.linalg.norm(vec2)\n",
        "    cos_angle = dot_product / (norm1 * norm2)\n",
        "    cos_angle = np.clip(cos_angle, -1.0, 1.0)\n",
        "    angle_rad = np.arccos(cos_angle)\n",
        "    angle_deg = np.degrees(angle_rad)\n",
        "    return angle_rad, angle_deg\n",
        "\n",
        "# Тестування кута для кількох пар\n",
        "print(\"\\nТестування кута між словами:\")\n",
        "for w1, w2 in word_pairs:\n",
        "    angle_rad, angle_deg = angle_between_words(w1, w2, df_vectors)\n",
        "    print(f\"Кут між '{w1}' і '{w2}': {angle_rad:.2f} радіан, {angle_deg:.2f} градусів\")\n",
        "\n"
      ]
    },
    {
      "cell_type": "markdown",
      "source": [
        "Висновки:\n",
        "1. Модель успішно завантажена та перетворена в DataFrame із тривимірними векторами.\n",
        "2. Функція пошуку найближчого слова працює коректно, повертаючи слова з моделі на основі евклідової відстані.\n",
        "3. Векторний добуток показує слова, ортогональні до площини двох векторів; результати можуть бути абстрактними, але відображають геометричну інтерпретацію.\n",
        "4. Кути між словами вказують на семантичну схожість: менші кути (близько 0°) — більша схожість, більші (близько 90°) — менша схожість."
      ],
      "metadata": {
        "id": "qdeKAO89IOMr"
      }
    }
  ]
}